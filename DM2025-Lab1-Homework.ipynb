{
 "cells": [
  {
   "cell_type": "markdown",
   "metadata": {},
   "source": [
    "### Student Information\n",
    "Name: Pepijn Baggen \n",
    "\n",
    "Student ID: F74148442\n",
    "\n",
    "GitHub ID: PepBaggen"
   ]
  },
  {
   "cell_type": "markdown",
   "metadata": {},
   "source": [
    "---"
   ]
  },
  {
   "cell_type": "markdown",
   "metadata": {},
   "source": [
    "### Instructions"
   ]
  },
  {
   "cell_type": "markdown",
   "metadata": {},
   "source": [
    "### First Phase Submission"
   ]
  },
  {
   "cell_type": "markdown",
   "metadata": {},
   "source": [
    "1. First: do the **take home** exercises in the [DM2025-Lab1-Master](https://github.com/leoson-wu/DM2025-Lab1-Exercise/blob/main/DM2025-Lab1-Master.ipynb) that considered as **phase 1 (from exercise 1 to exercise 15)**. You can answer in the master file. __This part is worth 10% of your grade.__\n",
    "\n",
    "\n",
    "2. Second: follow the same process from the [DM2025-Lab1-Master](https://github.com/leoson-wu/DM2025-Lab1-Exercise/blob/main/DM2025-Lab1-Master.ipynb) on **the new dataset** up **until phase 1**. You can skip some exercises if you think some steps are not necessary. However main exercises should be completed. You don't need to explain all details as we did (some **minimal comments** explaining your code are useful though).  __This part is worth 15% of your grade.__\n",
    "    -  Use [the new dataset](https://github.com/leoson-wu/DM2025-Lab1-Exercise/blob/main/newdataset/Reddit-stock-sentiment.csv). The dataset contains a 16 columns including 'text' and 'label', with the sentiment labels being: 1.0 is positive, 0.0 is neutral and -1.0 is negative. You can simplify the dataset and use only the columns that you think are necessary. \n",
    "    \n",
    "    - You are allowed to use and modify the `helper` functions in the folder of the first lab session (notice they may need modification) or create your own.\n",
    "    - Use this file to complete the homework from the second part. Make sure the code can be run from the beginning till the end and has all the needed output.\n",
    "\n",
    "\n",
    "3. Third: please attempt the following tasks on **the new dataset**. __This part is worth 10% of your grade.__\n",
    "    - Generate meaningful **new data visualizations**. Refer to online resources and the Data Mining textbook for inspiration and ideas. \n",
    "    \n",
    "\n",
    "\n",
    "4. Fourth: It's hard for us to follow if your code is messy, so please **tidy up your notebook** and **add minimal comments where needed**. __This part is worth 5% of your grade.__\n",
    "\n",
    "You can submit your homework following these guidelines: [DM2025-Lab1-announcement](https://github.com/leoson-wu/DM2025-Lab1-Announcement/blob/main/README.md). Make sure to commit and save your changes to your repository __BEFORE the deadline (September 28th 11:59 pm, Sunday)__. "
   ]
  },
  {
   "cell_type": "markdown",
   "metadata": {},
   "source": [
    "### Second Phase Submission "
   ]
  },
  {
   "cell_type": "markdown",
   "metadata": {},
   "source": [
    "**You can keep the answer for phase 1 for easier running and update the phase 2 on the same page.**\n",
    "\n",
    "1. First: Continue doing the **take home** exercises in the [DM2025-Lab1-Master](https://github.com/leoson-wu/DM2025-Lab1-Exercise/blob/main/DM2025-Lab1-Master.ipynb) for **phase 2, starting from Finding frequent patterns**. Use the same master(.ipynb) file. Answer from phase 1 will not be considered at this stage. You can answer in the master file. __This part is worth 10% of your grade.__\n",
    "\n",
    "\n",
    "2. Second: Continue from first phase and do the same process from the [DM2025-Lab1-Master](https://github.com/leoson-wu/DM2025-Lab1-Exercise/blob/main/DM2025-Lab1-Master.ipynb) on **the new dataset** for phase 2, starting from Finding frequent pattern. You can skip some exercises if you think some steps are not necessary. However main exercises should be completed. You don't need to explain all details as we did (some **minimal comments** explaining your code are useful though).  __This part is worth 15% of your grade.__\n",
    "    - Continue using this file to complete the homework from the second part. Make sure the code can be run from the beginning till the end and has all the needed output. Use the same new dataset as in phase 1.\n",
    "    \n",
    "    - You are allowed to use and modify the `helper` functions in the folder of the first lab session (notice they may need modification) or create your own.\n",
    "\n",
    "3. Third: please attempt the following tasks on **the new dataset**. __This part is worth 20% of your grade.__\n",
    "    - Use this file to answer.\n",
    "    - Generate **TF-IDF features** from the tokens of each text. This will generating a document matrix, however, the weights will be computed differently (using the TF-IDF value of each word per document as opposed to the word frequency).  Refer to this Scikit-learn [guide](http://scikit-learn.org/stable/modules/generated/sklearn.feature_extraction.text.TfidfVectorizer.html) .\n",
    "    - Implement a simple **Naive Bayes classifier** that automatically classifies the records into their categories. Use both the TF-IDF features and word frequency features to build two seperate classifiers. Note that for the TF-IDF features you might need to use other type of NB classifier different than the one in the Master Notebook. Comment on the differences and when using augmentation with feature pattern.  Refer to this [article](https://hub.packtpub.com/implementing-3-naive-bayes-classifiers-in-scikit-learn/).\n",
    "\n",
    "\n",
    "4. Fourth: In the lab, we applied each step really quickly just to illustrate how to work with your dataset. There are somethings that are not ideal or the most efficient/meaningful. Each dataset can be handled differently as well. What are those inefficent parts you noticed? How can you improve the Data preprocessing for these specific datasets? __This part is worth 10% of your grade.__\n",
    "\n",
    "\n",
    "5. Fifth: It's hard for us to follow if your code is messy, so please **tidy up your notebook** and **add minimal comments where needed**. __This part is worth 5% of your grade.__\n",
    "\n",
    "\n",
    "You can submit your homework following these guidelines: [DM2025-Lab1-announcement](https://github.com/leoson-wu/DM2025-Lab1-Announcement/blob/main/README.md). Make sure to commit and save your changes to your repository __BEFORE the deadline (October 19th 11:59 pm, Sunday)__. "
   ]
  },
  {
   "cell_type": "markdown",
   "metadata": {},
   "source": [
    "## Phase 1\n",
    "Phase 1 responses are recorded in `DM2025-Lab1-Master.ipynb` (Exercises 1–15)."
   ]
  },
  {
   "cell_type": "markdown",
   "id": "390500bf",
   "metadata": {},
   "source": [
    "## Phase 2 – Reddit Sentiment Workflow\n",
    "Loading, cleaning, and modeling the Reddit stock sentiment dataset."
   ]
  },
  {
   "cell_type": "code",
   "execution_count": 16,
   "metadata": {},
   "outputs": [
    {
     "name": "stdout",
     "output_type": "stream",
     "text": [
      "Raw shape: (847, 16)\n",
      "Columns: ['type', 'datetime', 'post_id', 'subreddit', 'title', 'author', 'url', 'upvotes', 'downvotes', 'upvote_ratio', 'text', 'subjectivity', 'polarity', 'sentiment', 'entities', 'label']\n",
      "\n",
      "Sentiment label counts:\n",
      "label\n",
      "-1.0    315\n",
      " 0.0    423\n",
      " 1.0    109\n",
      "Name: count, dtype: int64\n",
      "\n",
      "Missing `text` entries: 0\n",
      "Duplicate texts removed: 23\n",
      "Clean shape: (824, 7)\n",
      "Missing values after cleaning:\n",
      "doc_id             0\n",
      "datetime           0\n",
      "subreddit          0\n",
      "title              0\n",
      "text               0\n",
      "sentiment_score    0\n",
      "sentiment_name     0\n",
      "dtype: int64\n",
      "\n",
      "Sentiment distribution:\n",
      "sentiment_name\n",
      "negative    315\n",
      "neutral     401\n",
      "positive    108\n",
      "Name: count, dtype: int64\n",
      "Sample size: 400\n"
     ]
    },
    {
     "data": {
      "image/png": "[encoded data removed]",
      "text/plain": [
       "<Figure size 800x400 with 1 Axes>"
      ]
     },
     "metadata": {},
     "output_type": "display_data"
    },
    {
     "name": "stdout",
     "output_type": "stream",
     "text": [
      "Matrix shape: (824, 4346)\n",
      "Vocabulary size: 4346\n",
      "Sample features: ['00' '000' '01378' '02' '027' '03' '06' '08' '10' '100']\n"
     ]
    },
    {
     "data": {
      "application/vnd.plotly.v1+json": {
       "config": {
        "plotlyServerURL": "https://plot.ly"
       },
       "data": [
        {
         "hovertemplate": "Term=%{x}<br>Count=%{y}<extra></extra>",
         "legendgroup": "",
         "marker": {
          "color": "#636efa",
          "pattern": {
           "shape": ""
          }
         },
         "name": "",
         "orientation": "v",
         "showlegend": false,
         "textposition": "auto",
         "type": "bar",
         "x": [
          "the",
          "to",
          "and",
          "is",
          "it",
          "of",
          "in",
          "that",
          "for",
          "this",
          "you",
          "on",
          "are",
          "they",
          "be",
          "he",
          "will",
          "with",
          "if",
          "as",
          "but",
          "not",
          "so",
          "all",
          "have",
          "us",
          "just",
          "was",
          "trump",
          "at",
          "my",
          "what",
          "like",
          "market",
          "can",
          "we",
          "or",
          "has",
          "their",
          "china",
          "about",
          "more",
          "now",
          "there",
          "no",
          "from",
          "re",
          "by",
          "up",
          "do",
          "them",
          "how",
          "even",
          "think",
          "some",
          "people",
          "one",
          "his",
          "going",
          "your",
          "money",
          "good",
          "would",
          "any",
          "out",
          "an",
          "when",
          "who",
          "than",
          "see",
          "tariffs",
          "why",
          "get",
          "been",
          "other",
          "time",
          "him",
          "make",
          "only",
          "want"
         ],
         "xaxis": "x",
         "y": {
          "bdata": "dgMtAtsBhgFVAS4BGAHhANMA0gDDAKgAmQCVAIUAhAB/AH0AdwBwAGwAaABmAGEAYQBgAF8AXgBcAFwAWQBYAFMAUgBSAFEAUQBMAEgASABFAEMAPgA+AD0AOwA5ADcANgA1ADQANAA0ADQANAAzADMAMwAyADAALgAuAC0ALQAtACwAKgApACkAKAAnACYAJQAlACQAJAAkACQAJAAjAA==",
          "dtype": "i2"
         },
         "yaxis": "y"
        }
       ],
       "layout": {
        "barmode": "relative",
        "height": 450,
        "legend": {
         "tracegroupgap": 0
        },
        "template": {
         "data": {
          "bar": [
           {
            "error_x": {
             "color": "#2a3f5f"
            },
            "error_y": {
             "color": "#2a3f5f"
            },
            "marker": {
             "line": {
              "color": "#E5ECF6",
              "width": 0.5
             },
             "pattern": {
              "fillmode": "overlay",
              "size": 10,
              "solidity": 0.2
             }
            },
            "type": "bar"
           }
          ],
          "barpolar": [
           {
            "marker": {
             "line": {
              "color": "#E5ECF6",
              "width": 0.5
             },
             "pattern": {
              "fillmode": "overlay",
              "size": 10,
              "solidity": 0.2
             }
            },
            "type": "barpolar"
           }
          ],
          "carpet": [
           {
            "aaxis": {
             "endlinecolor": "#2a3f5f",
             "gridcolor": "white",
             "linecolor": "white",
             "minorgridcolor": "white",
             "startlinecolor": "#2a3f5f"
            },
            "baxis": {
             "endlinecolor": "#2a3f5f",
             "gridcolor": "white",
             "linecolor": "white",
             "minorgridcolor": "white",
             "startlinecolor": "#2a3f5f"
            },
            "type": "carpet"
           }
          ],
          "choropleth": [
           {
            "colorbar": {
             "outlinewidth": 0,
             "ticks": ""
            },
            "type": "choropleth"
           }
          ],
          "contour": [
           {
            "colorbar": {
             "outlinewidth": 0,
             "ticks": ""
            },
            "colorscale": [
             [
              0,
              "#0d0887"
             ],
             [
              0.1111111111111111,
              "#46039f"
             ],
             [
              0.2222222222222222,
              "#7201a8"
             ],
             [
              0.3333333333333333,
              "#9c179e"
             ],
             [
              0.4444444444444444,
              "#bd3786"
             ],
             [
              0.5555555555555556,
              "#d8576b"
             ],
             [
              0.6666666666666666,
              "#ed7953"
             ],
             [
              0.7777777777777778,
              "#fb9f3a"
             ],
             [
              0.8888888888888888,
              "#fdca26"
             ],
             [
              1,
              "#f0f921"
             ]
            ],
            "type": "contour"
           }
          ],
          "contourcarpet": [
           {
            "colorbar": {
             "outlinewidth": 0,
             "ticks": ""
            },
            "type": "contourcarpet"
           }
          ],
          "heatmap": [
           {
            "colorbar": {
             "outlinewidth": 0,
             "ticks": ""
            },
            "colorscale": [
             [
              0,
              "#0d0887"
             ],
             [
              0.1111111111111111,
              "#46039f"
             ],
             [
              0.2222222222222222,
              "#7201a8"
             ],
             [
              0.3333333333333333,
              "#9c179e"
             ],
             [
              0.4444444444444444,
              "#bd3786"
             ],
             [
              0.5555555555555556,
              "#d8576b"
             ],
             [
              0.6666666666666666,
              "#ed7953"
             ],
             [
              0.7777777777777778,
              "#fb9f3a"
             ],
             [
              0.8888888888888888,
              "#fdca26"
             ],
             [
              1,
              "#f0f921"
             ]
            ],
            "type": "heatmap"
           }
          ],
          "histogram": [
           {
            "marker": {
             "pattern": {
              "fillmode": "overlay",
              "size": 10,
              "solidity": 0.2
             }
            },
            "type": "histogram"
           }
          ],
          "histogram2d": [
           {
            "colorbar": {
             "outlinewidth": 0,
             "ticks": ""
            },
            "colorscale": [
             [
              0,
              "#0d0887"
             ],
             [
              0.1111111111111111,
              "#46039f"
             ],
             [
              0.2222222222222222,
              "#7201a8"
             ],
             [
              0.3333333333333333,
              "#9c179e"
             ],
             [
              0.4444444444444444,
              "#bd3786"
             ],
             [
              0.5555555555555556,
              "#d8576b"
             ],
             [
              0.6666666666666666,
              "#ed7953"
             ],
             [
              0.7777777777777778,
              "#fb9f3a"
             ],
             [
              0.8888888888888888,
              "#fdca26"
             ],
             [
              1,
              "#f0f921"
             ]
            ],
            "type": "histogram2d"
           }
          ],
          "histogram2dcontour": [
           {
            "colorbar": {
             "outlinewidth": 0,
             "ticks": ""
            },
            "colorscale": [
             [
              0,
              "#0d0887"
             ],
             [
              0.1111111111111111,
              "#46039f"
             ],
             [
              0.2222222222222222,
              "#7201a8"
             ],
             [
              0.3333333333333333,
              "#9c179e"
             ],
             [
              0.4444444444444444,
              "#bd3786"
             ],
             [
              0.5555555555555556,
              "#d8576b"
             ],
             [
              0.6666666666666666,
              "#ed7953"
             ],
             [
              0.7777777777777778,
              "#fb9f3a"
             ],
             [
              0.8888888888888888,
              "#fdca26"
             ],
             [
              1,
              "#f0f921"
             ]
            ],
            "type": "histogram2dcontour"
           }
          ],
          "mesh3d": [
           {
            "colorbar": {
             "outlinewidth": 0,
             "ticks": ""
            },
            "type": "mesh3d"
           }
          ],
          "parcoords": [
           {
            "line": {
             "colorbar": {
              "outlinewidth": 0,
              "ticks": ""
             }
            },
            "type": "parcoords"
           }
          ],
          "pie": [
           {
            "automargin": true,
            "type": "pie"
           }
          ],
          "scatter": [
           {
            "fillpattern": {
             "fillmode": "overlay",
             "size": 10,
             "solidity": 0.2
            },
            "type": "scatter"
           }
          ],
          "scatter3d": [
           {
            "line": {
             "colorbar": {
              "outlinewidth": 0,
              "ticks": ""
             }
            },
            "marker": {
             "colorbar": {
              "outlinewidth": 0,
              "ticks": ""
             }
            },
            "type": "scatter3d"
           }
          ],
          "scattercarpet": [
           {
            "marker": {
             "colorbar": {
              "outlinewidth": 0,
              "ticks": ""
             }
            },
            "type": "scattercarpet"
           }
          ],
          "scattergeo": [
           {
            "marker": {
             "colorbar": {
              "outlinewidth": 0,
              "ticks": ""
             }
            },
            "type": "scattergeo"
           }
          ],
          "scattergl": [
           {
            "marker": {
             "colorbar": {
              "outlinewidth": 0,
              "ticks": ""
             }
            },
            "type": "scattergl"
           }
          ],
          "scattermap": [
           {
            "marker": {
             "colorbar": {
              "outlinewidth": 0,
              "ticks": ""
             }
            },
            "type": "scattermap"
           }
          ],
          "scattermapbox": [
           {
            "marker": {
             "colorbar": {
              "outlinewidth": 0,
              "ticks": ""
             }
            },
            "type": "scattermapbox"
           }
          ],
          "scatterpolar": [
           {
            "marker": {
             "colorbar": {
              "outlinewidth": 0,
              "ticks": ""
             }
            },
            "type": "scatterpolar"
           }
          ],
          "scatterpolargl": [
           {
            "marker": {
             "colorbar": {
              "outlinewidth": 0,
              "ticks": ""
             }
            },
            "type": "scatterpolargl"
           }
          ],
          "scatterternary": [
           {
            "marker": {
             "colorbar": {
              "outlinewidth": 0,
              "ticks": ""
             }
            },
            "type": "scatterternary"
           }
          ],
          "surface": [
           {
            "colorbar": {
             "outlinewidth": 0,
             "ticks": ""
            },
            "colorscale": [
             [
              0,
              "#0d0887"
             ],
             [
              0.1111111111111111,
              "#46039f"
             ],
             [
              0.2222222222222222,
              "#7201a8"
             ],
             [
              0.3333333333333333,
              "#9c179e"
             ],
             [
              0.4444444444444444,
              "#bd3786"
             ],
             [
              0.5555555555555556,
              "#d8576b"
             ],
             [
              0.6666666666666666,
              "#ed7953"
             ],
             [
              0.7777777777777778,
              "#fb9f3a"
             ],
             [
              0.8888888888888888,
              "#fdca26"
             ],
             [
              1,
              "#f0f921"
             ]
            ],
            "type": "surface"
           }
          ],
          "table": [
           {
            "cells": {
             "fill": {
              "color": "#EBF0F8"
             },
             "line": {
              "color": "white"
             }
            },
            "header": {
             "fill": {
              "color": "#C8D4E3"
             },
             "line": {
              "color": "white"
             }
            },
            "type": "table"
           }
          ]
         },
         "layout": {
          "annotationdefaults": {
           "arrowcolor": "#2a3f5f",
           "arrowhead": 0,
           "arrowwidth": 1
          },
          "autotypenumbers": "strict",
          "coloraxis": {
           "colorbar": {
            "outlinewidth": 0,
            "ticks": ""
           }
          },
          "colorscale": {
           "diverging": [
            [
             0,
             "#8e0152"
            ],
            [
             0.1,
             "#c51b7d"
            ],
            [
             0.2,
             "#de77ae"
            ],
            [
             0.3,
             "#f1b6da"
            ],
            [
             0.4,
             "#fde0ef"
            ],
            [
             0.5,
             "#f7f7f7"
            ],
            [
             0.6,
             "#e6f5d0"
            ],
            [
             0.7,
             "#b8e186"
            ],
            [
             0.8,
             "#7fbc41"
            ],
            [
             0.9,
             "#4d9221"
            ],
            [
             1,
             "#276419"
            ]
           ],
           "sequential": [
            [
             0,
             "#0d0887"
            ],
            [
             0.1111111111111111,
             "#46039f"
            ],
            [
             0.2222222222222222,
             "#7201a8"
            ],
            [
             0.3333333333333333,
             "#9c179e"
            ],
            [
             0.4444444444444444,
             "#bd3786"
            ],
            [
             0.5555555555555556,
             "#d8576b"
            ],
            [
             0.6666666666666666,
             "#ed7953"
            ],
            [
             0.7777777777777778,
             "#fb9f3a"
            ],
            [
             0.8888888888888888,
             "#fdca26"
            ],
            [
             1,
             "#f0f921"
            ]
           ],
           "sequentialminus": [
            [
             0,
             "#0d0887"
            ],
            [
             0.1111111111111111,
             "#46039f"
            ],
            [
             0.2222222222222222,
             "#7201a8"
            ],
            [
             0.3333333333333333,
             "#9c179e"
            ],
            [
             0.4444444444444444,
             "#bd3786"
            ],
            [
             0.5555555555555556,
             "#d8576b"
            ],
            [
             0.6666666666666666,
             "#ed7953"
            ],
            [
             0.7777777777777778,
             "#fb9f3a"
            ],
            [
             0.8888888888888888,
             "#fdca26"
            ],
            [
             1,
             "#f0f921"
            ]
           ]
          },
          "colorway": [
           "#636efa",
           "#EF553B",
           "#00cc96",
           "#ab63fa",
           "#FFA15A",
           "#19d3f3",
           "#FF6692",
           "#B6E880",
           "#FF97FF",
           "#FECB52"
          ],
          "font": {
           "color": "#2a3f5f"
          },
          "geo": {
           "bgcolor": "white",
           "lakecolor": "white",
           "landcolor": "#E5ECF6",
           "showlakes": true,
           "showland": true,
           "subunitcolor": "white"
          },
          "hoverlabel": {
           "align": "left"
          },
          "hovermode": "closest",
          "mapbox": {
           "style": "light"
          },
          "paper_bgcolor": "white",
          "plot_bgcolor": "#E5ECF6",
          "polar": {
           "angularaxis": {
            "gridcolor": "white",
            "linecolor": "white",
            "ticks": ""
           },
           "bgcolor": "#E5ECF6",
           "radialaxis": {
            "gridcolor": "white",
            "linecolor": "white",
            "ticks": ""
           }
          },
          "scene": {
           "xaxis": {
            "backgroundcolor": "#E5ECF6",
            "gridcolor": "white",
            "gridwidth": 2,
            "linecolor": "white",
            "showbackground": true,
            "ticks": "",
            "zerolinecolor": "white"
           },
           "yaxis": {
            "backgroundcolor": "#E5ECF6",
            "gridcolor": "white",
            "gridwidth": 2,
            "linecolor": "white",
            "showbackground": true,
            "ticks": "",
            "zerolinecolor": "white"
           },
           "zaxis": {
            "backgroundcolor": "#E5ECF6",
            "gridcolor": "white",
            "gridwidth": 2,
            "linecolor": "white",
            "showbackground": true,
            "ticks": "",
            "zerolinecolor": "white"
           }
          },
          "shapedefaults": {
           "line": {
            "color": "#2a3f5f"
           }
          },
          "ternary": {
           "aaxis": {
            "gridcolor": "white",
            "linecolor": "white",
            "ticks": ""
           },
           "baxis": {
            "gridcolor": "white",
            "linecolor": "white",
            "ticks": ""
           },
           "bgcolor": "#E5ECF6",
           "caxis": {
            "gridcolor": "white",
            "linecolor": "white",
            "ticks": ""
           }
          },
          "title": {
           "x": 0.05
          },
          "xaxis": {
           "automargin": true,
           "gridcolor": "white",
           "linecolor": "white",
           "ticks": "",
           "title": {
            "standoff": 15
           },
           "zerolinecolor": "white",
           "zerolinewidth": 2
          },
          "yaxis": {
           "automargin": true,
           "gridcolor": "white",
           "linecolor": "white",
           "ticks": "",
           "title": {
            "standoff": 15
           },
           "zerolinecolor": "white",
           "zerolinewidth": 2
          }
         }
        },
        "title": {
         "text": "Top 80 term frequencies"
        },
        "width": 1200,
        "xaxis": {
         "anchor": "y",
         "domain": [
          0,
          1
         ],
         "tickangle": 90,
         "title": {
          "text": "Term"
         }
        },
        "yaxis": {
         "anchor": "x",
         "domain": [
          0,
          1
         ],
         "title": {
          "text": "Count"
         }
        }
       }
      }
     },
     "metadata": {},
     "output_type": "display_data"
    },
    {
     "data": {
      "application/vnd.plotly.v1+json": {
       "config": {
        "plotlyServerURL": "https://plot.ly"
       },
       "data": [
        {
         "hovertemplate": "Term=%{x}<br>log(1 + count)=%{y}<extra></extra>",
         "legendgroup": "",
         "marker": {
          "color": "#636efa",
          "pattern": {
           "shape": ""
          }
         },
         "name": "",
         "orientation": "v",
         "showlegend": false,
         "textposition": "auto",
         "type": "bar",
         "x": [
          "the",
          "to",
          "and",
          "is",
          "it",
          "of",
          "in",
          "that",
          "for",
          "this",
          "you",
          "on",
          "are",
          "they",
          "be",
          "he",
          "will",
          "with",
          "if",
          "as",
          "but",
          "not",
          "so",
          "all",
          "have",
          "us",
          "just",
          "was",
          "trump",
          "at",
          "my",
          "what",
          "like",
          "market",
          "can",
          "we",
          "or",
          "has",
          "their",
          "china",
          "about",
          "more",
          "now",
          "there",
          "no",
          "from",
          "re",
          "by",
          "up",
          "do",
          "them",
          "how",
          "even",
          "think",
          "some",
          "people",
          "one",
          "his",
          "going",
          "your",
          "money",
          "good",
          "would",
          "any",
          "out",
          "an",
          "when",
          "who",
          "than",
          "see",
          "tariffs",
          "why",
          "get",
          "been",
          "other",
          "time",
          "him",
          "make",
          "only",
          "want"
         ],
         "xaxis": "x",
         "y": {
          "bdata": "cFnF1cAmG0BwXn7BJEwZQM9kSExjqRhAtRnm3/TfF0BZIjig2FYXQPP6xsXc2hZAOiaw2KyNFkCayhK6oK4VQNGsz/MkbRVA+3Ggf01oFUCnu9cWyhwVQFGMMSsEhRRAenkr59YlFECaToH64woUQGtYB1FjlxNALPCOrrePE0Cx8hqfemgTQFlfwkhaWBNAyXlEPGQmE0BcgzNa2OgSQAZVAbPwwxJApTozyKedEkDsE1ll9okSQGp0+LYBVxJAanT4tgFXEkD4S+UIgUwSQPikB37kQRJA47z9gCs3EkBw1vPCYSESQHDW88JhIRJAECwxG87/EUD2iq4XXfQRQNRl9gkouRFAguRijeSsEUCC5GKN5KwRQGWdpgJ7oBFAZZ2mAnugEUA8MkyHDmARQOYvIjNuKRFA5i8iM24pEUAhQWeJdf4QQDnOu6DG4BBAGxjj6JGSEEAbGOPokZIQQOvcJ4QvghBAizJl3JtgEEBNRsbF5D0QQFBsKsv1GRBA8/66WYIHEEAME8J3cOkPQKs8Imgoww9AqzwiaCjDD0CrPCJoKMMPQKs8Imgoww9AqzwiaCjDD0BJqa6qJZwPQEmprqolnA9ASamuqiWcD0D/AFH/YHQPQFdaMq5yIg9AtvCQLxrNDkC28JAvGs0OQGxCkL0OoQ5AbEKQvQ6hDkBsQpC9DqEOQKTJo3YLdA5AEewUFvAWDkAtPS5Uv+YNQC09LlS/5g1ATqyORWW1DUANcjI704INQNYNiGj5Tg1AqEHDxcYZDUCoQcPFxhkNQL3HOu4o4wxAvcc67ijjDEC9xzruKOMMQL3HOu4o4wxAvcc67ijjDEACICr6C6sMQA==",
          "dtype": "f8"
         },
         "yaxis": "y"
        }
       ],
       "layout": {
        "barmode": "relative",
        "height": 450,
        "legend": {
         "tracegroupgap": 0
        },
        "template": {
         "data": {
          "bar": [
           {
            "error_x": {
             "color": "#2a3f5f"
            },
            "error_y": {
             "color": "#2a3f5f"
            },
            "marker": {
             "line": {
              "color": "#E5ECF6",
              "width": 0.5
             },
             "pattern": {
              "fillmode": "overlay",
              "size": 10,
              "solidity": 0.2
             }
            },
            "type": "bar"
           }
          ],
          "barpolar": [
           {
            "marker": {
             "line": {
              "color": "#E5ECF6",
              "width": 0.5
             },
             "pattern": {
              "fillmode": "overlay",
              "size": 10,
              "solidity": 0.2
             }
            },
            "type": "barpolar"
           }
          ],
          "carpet": [
           {
            "aaxis": {
             "endlinecolor": "#2a3f5f",
             "gridcolor": "white",
             "linecolor": "white",
             "minorgridcolor": "white",
             "startlinecolor": "#2a3f5f"
            },
            "baxis": {
             "endlinecolor": "#2a3f5f",
             "gridcolor": "white",
             "linecolor": "white",
             "minorgridcolor": "white",
             "startlinecolor": "#2a3f5f"
            },
            "type": "carpet"
           }
          ],
          "choropleth": [
           {
            "colorbar": {
             "outlinewidth": 0,
             "ticks": ""
            },
            "type": "choropleth"
           }
          ],
          "contour": [
           {
            "colorbar": {
             "outlinewidth": 0,
             "ticks": ""
            },
            "colorscale": [
             [
              0,
              "#0d0887"
             ],
             [
              0.1111111111111111,
              "#46039f"
             ],
             [
              0.2222222222222222,
              "#7201a8"
             ],
             [
              0.3333333333333333,
              "#9c179e"
             ],
             [
              0.4444444444444444,
              "#bd3786"
             ],
             [
              0.5555555555555556,
              "#d8576b"
             ],
             [
              0.6666666666666666,
              "#ed7953"
             ],
             [
              0.7777777777777778,
              "#fb9f3a"
             ],
             [
              0.8888888888888888,
              "#fdca26"
             ],
             [
              1,
              "#f0f921"
             ]
            ],
            "type": "contour"
           }
          ],
          "contourcarpet": [
           {
            "colorbar": {
             "outlinewidth": 0,
             "ticks": ""
            },
            "type": "contourcarpet"
           }
          ],
          "heatmap": [
           {
            "colorbar": {
             "outlinewidth": 0,
             "ticks": ""
            },
            "colorscale": [
             [
              0,
              "#0d0887"
             ],
             [
              0.1111111111111111,
              "#46039f"
             ],
             [
              0.2222222222222222,
              "#7201a8"
             ],
             [
              0.3333333333333333,
              "#9c179e"
             ],
             [
              0.4444444444444444,
              "#bd3786"
             ],
             [
              0.5555555555555556,
              "#d8576b"
             ],
             [
              0.6666666666666666,
              "#ed7953"
             ],
             [
              0.7777777777777778,
              "#fb9f3a"
             ],
             [
              0.8888888888888888,
              "#fdca26"
             ],
             [
              1,
              "#f0f921"
             ]
            ],
            "type": "heatmap"
           }
          ],
          "histogram": [
           {
            "marker": {
             "pattern": {
              "fillmode": "overlay",
              "size": 10,
              "solidity": 0.2
             }
            },
            "type": "histogram"
           }
          ],
          "histogram2d": [
           {
            "colorbar": {
             "outlinewidth": 0,
             "ticks": ""
            },
            "colorscale": [
             [
              0,
              "#0d0887"
             ],
             [
              0.1111111111111111,
              "#46039f"
             ],
             [
              0.2222222222222222,
              "#7201a8"
             ],
             [
              0.3333333333333333,
              "#9c179e"
             ],
             [
              0.4444444444444444,
              "#bd3786"
             ],
             [
              0.5555555555555556,
              "#d8576b"
             ],
             [
              0.6666666666666666,
              "#ed7953"
             ],
             [
              0.7777777777777778,
              "#fb9f3a"
             ],
             [
              0.8888888888888888,
              "#fdca26"
             ],
             [
              1,
              "#f0f921"
             ]
            ],
            "type": "histogram2d"
           }
          ],
          "histogram2dcontour": [
           {
            "colorbar": {
             "outlinewidth": 0,
             "ticks": ""
            },
            "colorscale": [
             [
              0,
              "#0d0887"
             ],
             [
              0.1111111111111111,
              "#46039f"
             ],
             [
              0.2222222222222222,
              "#7201a8"
             ],
             [
              0.3333333333333333,
              "#9c179e"
             ],
             [
              0.4444444444444444,
              "#bd3786"
             ],
             [
              0.5555555555555556,
              "#d8576b"
             ],
             [
              0.6666666666666666,
              "#ed7953"
             ],
             [
              0.7777777777777778,
              "#fb9f3a"
             ],
             [
              0.8888888888888888,
              "#fdca26"
             ],
             [
              1,
              "#f0f921"
             ]
            ],
            "type": "histogram2dcontour"
           }
          ],
          "mesh3d": [
           {
            "colorbar": {
             "outlinewidth": 0,
             "ticks": ""
            },
            "type": "mesh3d"
           }
          ],
          "parcoords": [
           {
            "line": {
             "colorbar": {
              "outlinewidth": 0,
              "ticks": ""
             }
            },
            "type": "parcoords"
           }
          ],
          "pie": [
           {
            "automargin": true,
            "type": "pie"
           }
          ],
          "scatter": [
           {
            "fillpattern": {
             "fillmode": "overlay",
             "size": 10,
             "solidity": 0.2
            },
            "type": "scatter"
           }
          ],
          "scatter3d": [
           {
            "line": {
             "colorbar": {
              "outlinewidth": 0,
              "ticks": ""
             }
            },
            "marker": {
             "colorbar": {
              "outlinewidth": 0,
              "ticks": ""
             }
            },
            "type": "scatter3d"
           }
          ],
          "scattercarpet": [
           {
            "marker": {
             "colorbar": {
              "outlinewidth": 0,
              "ticks": ""
             }
            },
            "type": "scattercarpet"
           }
          ],
          "scattergeo": [
           {
            "marker": {
             "colorbar": {
              "outlinewidth": 0,
              "ticks": ""
             }
            },
            "type": "scattergeo"
           }
          ],
          "scattergl": [
           {
            "marker": {
             "colorbar": {
              "outlinewidth": 0,
              "ticks": ""
             }
            },
            "type": "scattergl"
           }
          ],
          "scattermap": [
           {
            "marker": {
             "colorbar": {
              "outlinewidth": 0,
              "ticks": ""
             }
            },
            "type": "scattermap"
           }
          ],
          "scattermapbox": [
           {
            "marker": {
             "colorbar": {
              "outlinewidth": 0,
              "ticks": ""
             }
            },
            "type": "scattermapbox"
           }
          ],
          "scatterpolar": [
           {
            "marker": {
             "colorbar": {
              "outlinewidth": 0,
              "ticks": ""
             }
            },
            "type": "scatterpolar"
           }
          ],
          "scatterpolargl": [
           {
            "marker": {
             "colorbar": {
              "outlinewidth": 0,
              "ticks": ""
             }
            },
            "type": "scatterpolargl"
           }
          ],
          "scatterternary": [
           {
            "marker": {
             "colorbar": {
              "outlinewidth": 0,
              "ticks": ""
             }
            },
            "type": "scatterternary"
           }
          ],
          "surface": [
           {
            "colorbar": {
             "outlinewidth": 0,
             "ticks": ""
            },
            "colorscale": [
             [
              0,
              "#0d0887"
             ],
             [
              0.1111111111111111,
              "#46039f"
             ],
             [
              0.2222222222222222,
              "#7201a8"
             ],
             [
              0.3333333333333333,
              "#9c179e"
             ],
             [
              0.4444444444444444,
              "#bd3786"
             ],
             [
              0.5555555555555556,
              "#d8576b"
             ],
             [
              0.6666666666666666,
              "#ed7953"
             ],
             [
              0.7777777777777778,
              "#fb9f3a"
             ],
             [
              0.8888888888888888,
              "#fdca26"
             ],
             [
              1,
              "#f0f921"
             ]
            ],
            "type": "surface"
           }
          ],
          "table": [
           {
            "cells": {
             "fill": {
              "color": "#EBF0F8"
             },
             "line": {
              "color": "white"
             }
            },
            "header": {
             "fill": {
              "color": "#C8D4E3"
             },
             "line": {
              "color": "white"
             }
            },
            "type": "table"
           }
          ]
         },
         "layout": {
          "annotationdefaults": {
           "arrowcolor": "#2a3f5f",
           "arrowhead": 0,
           "arrowwidth": 1
          },
          "autotypenumbers": "strict",
          "coloraxis": {
           "colorbar": {
            "outlinewidth": 0,
            "ticks": ""
           }
          },
          "colorscale": {
           "diverging": [
            [
             0,
             "#8e0152"
            ],
            [
             0.1,
             "#c51b7d"
            ],
            [
             0.2,
             "#de77ae"
            ],
            [
             0.3,
             "#f1b6da"
            ],
            [
             0.4,
             "#fde0ef"
            ],
            [
             0.5,
             "#f7f7f7"
            ],
            [
             0.6,
             "#e6f5d0"
            ],
            [
             0.7,
             "#b8e186"
            ],
            [
             0.8,
             "#7fbc41"
            ],
            [
             0.9,
             "#4d9221"
            ],
            [
             1,
             "#276419"
            ]
           ],
           "sequential": [
            [
             0,
             "#0d0887"
            ],
            [
             0.1111111111111111,
             "#46039f"
            ],
            [
             0.2222222222222222,
             "#7201a8"
            ],
            [
             0.3333333333333333,
             "#9c179e"
            ],
            [
             0.4444444444444444,
             "#bd3786"
            ],
            [
             0.5555555555555556,
             "#d8576b"
            ],
            [
             0.6666666666666666,
             "#ed7953"
            ],
            [
             0.7777777777777778,
             "#fb9f3a"
            ],
            [
             0.8888888888888888,
             "#fdca26"
            ],
            [
             1,
             "#f0f921"
            ]
           ],
           "sequentialminus": [
            [
             0,
             "#0d0887"
            ],
            [
             0.1111111111111111,
             "#46039f"
            ],
            [
             0.2222222222222222,
             "#7201a8"
            ],
            [
             0.3333333333333333,
             "#9c179e"
            ],
            [
             0.4444444444444444,
             "#bd3786"
            ],
            [
             0.5555555555555556,
             "#d8576b"
            ],
            [
             0.6666666666666666,
             "#ed7953"
            ],
            [
             0.7777777777777778,
             "#fb9f3a"
            ],
            [
             0.8888888888888888,
             "#fdca26"
            ],
            [
             1,
             "#f0f921"
            ]
           ]
          },
          "colorway": [
           "#636efa",
           "#EF553B",
           "#00cc96",
           "#ab63fa",
           "#FFA15A",
           "#19d3f3",
           "#FF6692",
           "#B6E880",
           "#FF97FF",
           "#FECB52"
          ],
          "font": {
           "color": "#2a3f5f"
          },
          "geo": {
           "bgcolor": "white",
           "lakecolor": "white",
           "landcolor": "#E5ECF6",
           "showlakes": true,
           "showland": true,
           "subunitcolor": "white"
          },
          "hoverlabel": {
           "align": "left"
          },
          "hovermode": "closest",
          "mapbox": {
           "style": "light"
          },
          "paper_bgcolor": "white",
          "plot_bgcolor": "#E5ECF6",
          "polar": {
           "angularaxis": {
            "gridcolor": "white",
            "linecolor": "white",
            "ticks": ""
           },
           "bgcolor": "#E5ECF6",
           "radialaxis": {
            "gridcolor": "white",
            "linecolor": "white",
            "ticks": ""
           }
          },
          "scene": {
           "xaxis": {
            "backgroundcolor": "#E5ECF6",
            "gridcolor": "white",
            "gridwidth": 2,
            "linecolor": "white",
            "showbackground": true,
            "ticks": "",
            "zerolinecolor": "white"
           },
           "yaxis": {
            "backgroundcolor": "#E5ECF6",
            "gridcolor": "white",
            "gridwidth": 2,
            "linecolor": "white",
            "showbackground": true,
            "ticks": "",
            "zerolinecolor": "white"
           },
           "zaxis": {
            "backgroundcolor": "#E5ECF6",
            "gridcolor": "white",
            "gridwidth": 2,
            "linecolor": "white",
            "showbackground": true,
            "ticks": "",
            "zerolinecolor": "white"
           }
          },
          "shapedefaults": {
           "line": {
            "color": "#2a3f5f"
           }
          },
          "ternary": {
           "aaxis": {
            "gridcolor": "white",
            "linecolor": "white",
            "ticks": ""
           },
           "baxis": {
            "gridcolor": "white",
            "linecolor": "white",
            "ticks": ""
           },
           "bgcolor": "#E5ECF6",
           "caxis": {
            "gridcolor": "white",
            "linecolor": "white",
            "ticks": ""
           }
          },
          "title": {
           "x": 0.05
          },
          "xaxis": {
           "automargin": true,
           "gridcolor": "white",
           "linecolor": "white",
           "ticks": "",
           "title": {
            "standoff": 15
           },
           "zerolinecolor": "white",
           "zerolinewidth": 2
          },
          "yaxis": {
           "automargin": true,
           "gridcolor": "white",
           "linecolor": "white",
           "ticks": "",
           "title": {
            "standoff": 15
           },
           "zerolinecolor": "white",
           "zerolinewidth": 2
          }
         }
        },
        "title": {
         "text": "Top 80 term frequencies (log scale)"
        },
        "width": 1200,
        "xaxis": {
         "anchor": "y",
         "domain": [
          0,
          1
         ],
         "tickangle": 90,
         "title": {
          "text": "Term"
         }
        },
        "yaxis": {
         "anchor": "x",
         "domain": [
          0,
          1
         ],
         "title": {
          "text": "log(1 + count)"
         }
        }
       }
      }
     },
     "metadata": {},
     "output_type": "display_data"
    },
    {
     "data": {
      "image/png": "[encoded data removed]",
      "text/plain": [
       "<Figure size 1800x700 with 3 Axes>"
      ]
     },
     "metadata": {},
     "output_type": "display_data"
    }
   ],
   "source": [
    "# Core imports \n",
    "from pathlib import Path\n",
    "\n",
    "import numpy as np\n",
    "import pandas as pd\n",
    "import matplotlib.pyplot as plt\n",
    "import plotly.express as px\n",
    "import seaborn as sns\n",
    "import nltk\n",
    "from sklearn.feature_extraction.text import CountVectorizer\n",
    "\n",
    "import helpers.data_mining_helpers as dmh\n",
    "\n",
    "plt.style.use(\"seaborn-v0_8-muted\")\n",
    "sns.set_theme(style=\"whitegrid\")\n",
    "\n",
    "# Ensure tokenizers required by the helpers are available\n",
    "for resource in (\"punkt\", \"punkt_tab\"):\n",
    "    try:\n",
    "        nltk.data.find(f\"tokenizers/{resource}\")\n",
    "    except LookupError:\n",
    "        nltk.download(resource, quiet=True)\n",
    "\n",
    "## 1. Data Source \n",
    "\n",
    "# Load Reddit sentiment dataset\n",
    "data_path = Path(\"newdataset/Reddit-stock-sentiment.csv\")\n",
    "raw_df = pd.read_csv(data_path)\n",
    "print(f\"Raw shape: {raw_df.shape}\")\n",
    "raw_df.head()\n",
    "\n",
    "# Basic inspection of available fields and labels\n",
    "print(\"Columns:\", raw_df.columns.tolist())\n",
    "print(\"\\nSentiment label counts:\")\n",
    "print(raw_df[\"label\"].value_counts(dropna=False).sort_index())\n",
    "print(f\"\\nMissing `text` entries: {raw_df['text'].isna().sum()}\")\n",
    "\n",
    "# Keep essential columns, drop blank/duplicate texts, map sentiment names\n",
    "use_cols = [\"datetime\", \"subreddit\", \"title\", \"text\", \"label\"]\n",
    "non_null = raw_df[use_cols].dropna(subset=[\"text\"])\n",
    "duplicate_count = non_null.duplicated(subset=[\"text\"]).sum()\n",
    "X = (\n",
    "    non_null.drop_duplicates(subset=[\"text\"])\n",
    "            .reset_index(drop=True)\n",
    "            .rename(columns={\"label\": \"sentiment_score\"})\n",
    ")\n",
    "X[\"sentiment_score\"] = X[\"sentiment_score\"].astype(int)\n",
    "sentiment_map = {-1: \"negative\", 0: \"neutral\", 1: \"positive\"}\n",
    "X[\"sentiment_name\"] = X[\"sentiment_score\"].map(sentiment_map)\n",
    "X.insert(0, \"doc_id\", np.arange(len(X)))\n",
    "\n",
    "print(f\"Duplicate texts removed: {duplicate_count}\")\n",
    "print(f\"Clean shape: {X.shape}\")\n",
    "X.head()\n",
    "\n",
    "# Quick data quality checks\n",
    "print(\"Missing values after cleaning:\")\n",
    "print(X.isna().sum())\n",
    "print(\"\\nSentiment distribution:\")\n",
    "print(X[\"sentiment_name\"].value_counts().sort_index())\n",
    "\n",
    "## 2. Sampling and inspection\n",
    "\n",
    "# Random sample for lighter experimentation\n",
    "sample_size = min(400, len(X))\n",
    "X_sample = X.sample(n=sample_size, random_state=42)\n",
    "print(f\"Sample size: {sample_size}\")\n",
    "X_sample.head()\n",
    "\n",
    "# Compare sentiment distribution between full set and sample\n",
    "dist_df = (\n",
    "    pd.concat(\n",
    "        {\n",
    "            \"All\": X[\"sentiment_name\"].value_counts(),\n",
    "            \"Sample\": X_sample[\"sentiment_name\"].value_counts(),\n",
    "        },\n",
    "        axis=1,\n",
    "    )\n",
    "    .fillna(0)\n",
    "    .sort_index()\n",
    ")\n",
    "ax = dist_df.plot.bar(figsize=(8, 4), rot=0, color=[\"#4F6D7A\", \"#C0D6DF\"])\n",
    "ax.set_ylabel(\"Count\")\n",
    "ax.set_title(\"Sentiment distribution: full vs sample\")\n",
    "plt.tight_layout()\n",
    "plt.show()\n",
    "\n",
    "## 3. Feature creation\n",
    "\n",
    "# Tokenize each document into unigrams \n",
    "X[\"unigrams\"] = X[\"text\"].apply(dmh.tokenize_text)\n",
    "X[[\"doc_id\", \"sentiment_name\", \"unigrams\"]].head()\n",
    "\n",
    "## 4. Term-document matrix\n",
    "\n",
    "# Build term-document matrix using bag-of-words counts\n",
    "count_vect = CountVectorizer()\n",
    "X_counts = count_vect.fit_transform(X[\"text\"])\n",
    "print(f\"Matrix shape: {X_counts.shape}\")\n",
    "print(f\"Vocabulary size: {len(count_vect.get_feature_names_out())}\")\n",
    "print(\"Sample features:\", count_vect.get_feature_names_out()[:10])\n",
    "\n",
    "# Aggregate raw term frequencies\n",
    "term_frequencies = np.asarray(X_counts.sum(axis=0)).ravel()\n",
    "terms = count_vect.get_feature_names_out()\n",
    "term_freq_df = (\n",
    "    pd.DataFrame({\"term\": terms, \"frequency\": term_frequencies})\n",
    "    .sort_values(\"frequency\", ascending=False)\n",
    "    .reset_index(drop=True)\n",
    ")\n",
    "term_freq_df.head()\n",
    "\n",
    "# Inspect a manageable slice of the matrix to check sparsity\n",
    "subset_docs = min(40, X_counts.shape[0])\n",
    "subset_terms = min(40, len(term_freq_df))\n",
    "\n",
    "if subset_docs > 0 and subset_terms > 0:\n",
    "    top_terms = term_freq_df.head(subset_terms)[\"term\"].tolist()\n",
    "    term_indices = [count_vect.vocabulary_[term] for term in top_terms]\n",
    "    doc_labels = [f\"doc_{i}\" for i in range(subset_docs)]\n",
    "    plot_matrix = X_counts[:subset_docs, term_indices].toarray()\n",
    "\n",
    "    df_todraw = pd.DataFrame(plot_matrix, columns=top_terms, index=doc_labels)\n",
    "    fig, (ax_heatmap, ax_spy) = plt.subplots(\n",
    "        1, 2, figsize=(18, 7), gridspec_kw={\"width_ratios\": [1.15, 0.65]}\n",
    "    )\n",
    "    sns.heatmap(\n",
    "        df_todraw,\n",
    "        cmap=\"PuRd\",\n",
    "        ax=ax_heatmap,\n",
    "        cbar_kws={\"label\": \"Term frequency\"},\n",
    "    )\n",
    "    ax_heatmap.set_xticklabels(ax_heatmap.get_xticklabels(), rotation=90)\n",
    "    ax_heatmap.set_title(\"Top term frequencies (subset)\")\n",
    "    ax_heatmap.set_xlabel(\"Terms\")\n",
    "    ax_heatmap.set_ylabel(\"Documents\")\n",
    "\n",
    "    ax_spy.spy(plot_matrix, markersize=6, color=\"midnightblue\")\n",
    "    ax_spy.set_title(\"Sparsity pattern via spy()\")\n",
    "    ax_spy.set_xlabel(\"Terms (subset)\")\n",
    "    ax_spy.set_ylabel(\"Documents (subset)\")\n",
    "    ax_spy.grid(False)\n",
    "    ax_spy.set_facecolor(\"#f5f5f5\")\n",
    "\n",
    "    plt.tight_layout()\n",
    "\n",
    "# Bar chart of most frequent terms\n",
    "subset_size = min(80, len(term_freq_df))\n",
    "fig = px.bar(\n",
    "    term_freq_df.head(subset_size),\n",
    "    x=\"term\",\n",
    "    y=\"frequency\",\n",
    "    title=f\"Top {subset_size} term frequencies\",\n",
    "    labels={\"term\": \"Term\", \"frequency\": \"Count\"},\n",
    ")\n",
    "fig.update_layout(xaxis_tickangle=90, width=1200, height=450)\n",
    "fig.show()\n",
    "\n",
    "# Log-scale chart helps highlight the long tail of rare terms\n",
    "term_freq_df[\"log_frequency\"] = np.log1p(term_freq_df[\"frequency\"])\n",
    "fig = px.bar(\n",
    "    term_freq_df.head(subset_size),\n",
    "    x=\"term\",\n",
    "    y=\"log_frequency\",\n",
    "    title=f\"Top {subset_size} term frequencies (log scale)\",\n",
    "    labels={\"term\": \"Term\", \"log_frequency\": \"log(1 + count)\"},\n",
    ")\n",
    "fig.update_layout(xaxis_tickangle=90, width=1200, height=450)\n",
    "fig.show()\n"
   ]
  },
  {
   "cell_type": "markdown",
   "metadata": {},
   "source": [
    "### Baseline models"
   ]
  },
  {
   "cell_type": "markdown",
   "metadata": {},
   "source": [
    "## Phase 3 – Additional Visualizations"
   ]
  },
  {
   "cell_type": "code",
   "execution_count": 17,
   "metadata": {},
   "outputs": [
    {
     "data": {
      "image/png": "[encoded data removed]",
      "text/plain": [
       "<Figure size 1000x500 with 1 Axes>"
      ]
     },
     "metadata": {},
     "output_type": "display_data"
    },
    {
     "data": {
      "image/png": "[encoded data removed]",
      "text/plain": [
       "<Figure size 1000x500 with 2 Axes>"
      ]
     },
     "metadata": {},
     "output_type": "display_data"
    }
   ],
   "source": [
    "# My idea was to add usefull visualizations, so i came up with these two: 1.\n",
    "#  Daily sentiment trend and 2. Sentiment composition for the busiest subreddits\n",
    "\n",
    "X_viz = X.copy()\n",
    "X_viz['post_datetime'] = pd.to_datetime(X_viz['datetime'], errors='coerce')\n",
    "X_viz['post_date'] = X_viz['post_datetime'].dt.date\n",
    "X_viz['char_len'] = X_viz['text'].str.len()\n",
    "\n",
    "# Sentiment composition for the busiest subreddits\n",
    "top_subreddits = X_viz['subreddit'].value_counts().head(8).index\n",
    "subreddit_sentiment = (\n",
    "    X_viz[X_viz['subreddit'].isin(top_subreddits)]\n",
    "    .groupby(['subreddit', 'sentiment_name'])\n",
    "    .size()\n",
    "    .unstack(fill_value=0)\n",
    ")\n",
    "if not subreddit_sentiment.empty:\n",
    "    subreddit_sentiment = (\n",
    "        subreddit_sentiment\n",
    "        .div(subreddit_sentiment.sum(axis=1), axis=0)\n",
    "        .reindex(columns=['negative', 'neutral', 'positive'], fill_value=0)\n",
    "        * 100 # Convert to percentages\n",
    "    )\n",
    "    subreddit_sentiment = subreddit_sentiment.sort_values('positive', ascending=False)\n",
    "\n",
    "    ax = subreddit_sentiment.plot(\n",
    "        kind='bar', stacked=True, figsize=(10, 5), colormap='coolwarm'\n",
    "    )\n",
    "    ax.set_ylabel('Percentage of posts')\n",
    "    ax.set_title('Sentiment mix across top subreddits')\n",
    "    ax.legend(title='Sentiment')\n",
    "    plt.tight_layout()\n",
    "    plt.show()\n",
    "else:\n",
    "    print('Not enough subreddit data to plot sentiment composition.')\n",
    "\n",
    "# Daily sentiment trend with a seven-day smoothing window, found this on github as inspiration\n",
    "daily_trend = (\n",
    "    X_viz.dropna(subset=['post_date'])\n",
    "    .groupby('post_date')['sentiment_score']\n",
    "    .agg(['mean', 'count'])\n",
    "    .rename(columns={'mean': 'avg_sentiment', 'count': 'post_count'})\n",
    ")\n",
    "if not daily_trend.empty:\n",
    "    daily_trend['avg_sentiment_7d'] = daily_trend['avg_sentiment'].rolling(7, min_periods=1).mean()\n",
    "\n",
    "    fig, ax1 = plt.subplots(figsize=(10, 5))\n",
    "    daily_trend['avg_sentiment'].plot(ax=ax1, color='#4F6D7A', alpha=0.4, label='Daily mean')\n",
    "    daily_trend['avg_sentiment_7d'].plot(ax=ax1, color='#C25B56', label='7-day average')\n",
    "    ax1.set_ylabel('Average sentiment score')\n",
    "    ax1.set_title('Daily sentiment trend with 7-day smoothing')\n",
    "    ax1.legend(loc='upper left')\n",
    "\n",
    "    ax2 = ax1.twinx()\n",
    "    daily_trend['post_count'].plot(ax=ax2, color='#7D8FA7', alpha=0.3, label='Posts per day')\n",
    "    ax2.set_ylabel('Posts per day')\n",
    "    ax2.legend(loc='upper right')\n",
    "    plt.tight_layout()\n",
    "    plt.show()\n",
    "else:\n",
    "    print('No valid dates available for the daily trend plot.')\n",
    "\n"
   ]
  },
  {
   "cell_type": "markdown",
   "id": "6eeb920e",
   "metadata": {},
   "source": [
    "## Phase 2\n"
   ]
  },
  {
   "cell_type": "markdown",
   "metadata": {},
   "source": [
    "# Part 2 from Phase 2."
   ]
  },
  {
   "cell_type": "code",
   "execution_count": 23,
   "metadata": {},
   "outputs": [
    {
     "name": "stdout",
     "output_type": "stream",
     "text": [
      "Frequent patterns were generated successfully using frequentPatternGrowth algorithm\n",
      "Frequent patterns were generated successfully using frequentPatternGrowth algorithm\n",
      "Frequent patterns were generated successfully using frequentPatternGrowth algorithm\n",
      "=== MultinomialNB on binary counts ===\n",
      "Accuracy: 0.5843137254901961\n",
      "              precision    recall  f1-score   support\n",
      "\n",
      "         neg     0.5588    0.6000    0.5787        95\n",
      "         neu     0.6250    0.7087    0.6642       127\n",
      "         pos     0.2222    0.0606    0.0952        33\n",
      "\n",
      "    accuracy                         0.5843       255\n",
      "   macro avg     0.4687    0.4564    0.4460       255\n",
      "weighted avg     0.5482    0.5843    0.5587       255\n",
      "\n",
      "=== MultinomialNB on counts + patterns ===\n",
      "Accuracy: 0.5843137254901961\n",
      "              precision    recall  f1-score   support\n",
      "\n",
      "         neg     0.5588    0.6000    0.5787        95\n",
      "         neu     0.6250    0.7087    0.6642       127\n",
      "         pos     0.2222    0.0606    0.0952        33\n",
      "\n",
      "    accuracy                         0.5843       255\n",
      "   macro avg     0.4687    0.4564    0.4460       255\n",
      "weighted avg     0.5482    0.5843    0.5587       255\n",
      "\n",
      "=== ComplementNB on TF-IDF ===\n",
      "Accuracy: 0.48627450980392156\n",
      "              precision    recall  f1-score   support\n",
      "\n",
      "         neg     0.5039    0.6842    0.5804        95\n",
      "         neu     0.6136    0.4252    0.5023       127\n",
      "         pos     0.1316    0.1515    0.1408        33\n",
      "\n",
      "    accuracy                         0.4863       255\n",
      "   macro avg     0.4164    0.4203    0.4078       255\n",
      "weighted avg     0.5104    0.4863    0.4846       255\n",
      "\n"
     ]
    }
   ],
   "source": [
    "# === Phase 2 on new dataset: frequent patterns → augmented NB models ===\n",
    "from __future__ import annotations\n",
    "\n",
    "from pathlib import Path\n",
    "from typing import Dict, Iterable, List, Sequence, Tuple\n",
    "\n",
    "import numpy as np\n",
    "import pandas as pd\n",
    "from scipy.sparse import csr_matrix, hstack\n",
    "from sklearn.feature_extraction.text import CountVectorizer, TfidfVectorizer\n",
    "from sklearn.metrics import accuracy_score, classification_report\n",
    "from sklearn.model_selection import train_test_split\n",
    "from sklearn.naive_bayes import ComplementNB, MultinomialNB\n",
    "\n",
    "from PAMI.frequentPattern.basic import FPGrowth as FPG\n",
    "\n",
    "DATA_PATH = Path(\"newdataset/Reddit-stock-sentiment.csv\")\n",
    "TEXT_COLUMNS: Sequence[str] = (\"text\", \"body\", \"content\", \"sentence\", \"message\", \"selftext\", \"title\")\n",
    "LABEL_COLUMNS: Sequence[str] = (\"category_name\", \"label\", \"sentiment\", \"topic\", \"subreddit\", \"flair\", \"tag\", \"category\")\n",
    "MIN_DOCS_PER_CLASS = 40            # drop labels with too little data\n",
    "MAX_VOCAB = 4000                   # keep the top-N informative tokens\n",
    "MIN_TOKEN_DF = 10                  # ignore ultra-rare tokens\n",
    "MAX_TOKEN_DF = 0.5                 # drop tokens appearing in >50 % of docs\n",
    "MIN_PATTERN_SUPPORT = 0.05         # require a pattern to appear in ≥5 % of a class\n",
    "MAX_PATTERNS_PER_CLASS = 150       # keep only the strongest patterns per class\n",
    "\n",
    "\n",
    "def load_dataset(path: Path) -> pd.DataFrame:\n",
    "    df = pd.read_csv(path)\n",
    "    text_col = next((c for c in TEXT_COLUMNS if c in df.columns), df.select_dtypes(\"object\").columns[0])\n",
    "    label_col = next((c for c in LABEL_COLUMNS if c in df.columns), None)\n",
    "    if label_col is None:\n",
    "        df[\"label\"] = \"unknown\"\n",
    "        label_col = \"label\"\n",
    "\n",
    "    data = (\n",
    "        df[[text_col, label_col]]\n",
    "        .rename(columns={text_col: \"text\", label_col: \"label\"})\n",
    "        .dropna(subset=[\"text\"])\n",
    "        .assign(text=lambda d: d[\"text\"].astype(str).str.strip())\n",
    "    )\n",
    "\n",
    "    data[\"label\"] = (\n",
    "        data[\"label\"]\n",
    "        .astype(str)\n",
    "        .str.strip()\n",
    "        .replace({\"1.0\": \"pos\", \"0.0\": \"neu\", \"-1.0\": \"neg\"})\n",
    "    )\n",
    "    class_counts = data[\"label\"].value_counts()\n",
    "    keep = class_counts[class_counts >= MIN_DOCS_PER_CLASS].index\n",
    "    return data[data[\"label\"].isin(keep)].reset_index(drop=True)\n",
    "\n",
    "\n",
    "def build_vectorizers(corpus: pd.Series) -> Tuple[CountVectorizer, csr_matrix, TfidfVectorizer, csr_matrix]:\n",
    "    token_pattern = r\"(?u)\\b\\w+\\b\"\n",
    "    bow = CountVectorizer(\n",
    "        token_pattern=token_pattern,\n",
    "        binary=True,\n",
    "        max_features=MAX_VOCAB,\n",
    "        min_df=MIN_TOKEN_DF,\n",
    "        max_df=MAX_TOKEN_DF,\n",
    "        dtype=np.uint8,\n",
    "    )\n",
    "    bow_matrix = bow.fit_transform(corpus)\n",
    "\n",
    "    tfidf = TfidfVectorizer(\n",
    "        token_pattern=token_pattern,\n",
    "        max_features=MAX_VOCAB,\n",
    "        min_df=MIN_TOKEN_DF,\n",
    "        max_df=MAX_TOKEN_DF,\n",
    "    )\n",
    "    tfidf_matrix = tfidf.fit_transform(corpus)\n",
    "    return bow, bow_matrix, tfidf, tfidf_matrix\n",
    "\n",
    "\n",
    "def transactions_for_class(matrix: csr_matrix, labels: np.ndarray, vocab: np.ndarray) -> Dict[str, List[List[str]]]:\n",
    "    by_class: Dict[str, List[List[str]]] = {}\n",
    "    for cls in np.unique(labels):\n",
    "        rows = matrix[labels == cls]\n",
    "        docs = []\n",
    "        for row in rows:\n",
    "            tokens = vocab[row.indices]\n",
    "            if len(tokens) > 0:\n",
    "                docs.append(tokens.tolist())\n",
    "        if docs:\n",
    "            by_class[cls] = docs\n",
    "    return by_class\n",
    "\n",
    "\n",
    "def mine_patterns(transactions: Dict[str, List[List[str]]]) -> pd.DataFrame:\n",
    "    pattern_frames: List[pd.DataFrame] = []\n",
    "    for cls, docs in transactions.items():\n",
    "        temp_file = Path(f\"_fp_{cls}.txt\")\n",
    "        temp_file.write_text(\"\\n\".join(\" \".join(doc) for doc in docs), encoding=\"utf-8\")\n",
    "\n",
    "        alg = FPG.FPGrowth(\n",
    "            iFile=str(temp_file),\n",
    "            minSup=max(1, int(np.ceil(MIN_PATTERN_SUPPORT * len(docs))))\n",
    "        )\n",
    "        alg.mine()\n",
    "        temp_file.unlink(missing_ok=True)\n",
    "\n",
    "        patterns = alg.getPatternsAsDataFrame()\n",
    "        if patterns.empty:\n",
    "            continue\n",
    "\n",
    "        patterns = (\n",
    "            patterns\n",
    "            .sort_values(\"Support\", ascending=False)\n",
    "            .head(MAX_PATTERNS_PER_CLASS)\n",
    "            .assign(label=cls)\n",
    "        )\n",
    "        pattern_frames.append(patterns)\n",
    "\n",
    "    if not pattern_frames:\n",
    "        return pd.DataFrame(columns=[\"Patterns\", \"Support\", \"label\"])\n",
    "\n",
    "    return pd.concat(pattern_frames, ignore_index=True)\n",
    "\n",
    "\n",
    "def pattern_features(data: pd.DataFrame, patterns: pd.DataFrame) -> csr_matrix:\n",
    "    if patterns.empty:\n",
    "        return csr_matrix((len(data), 0), dtype=np.uint8)\n",
    "\n",
    "    tokenized_docs = data[\"text\"].str.lower().str.split()\n",
    "    doc_sets = tokenized_docs.apply(set)\n",
    "\n",
    "    col_data: List[np.ndarray] = []\n",
    "    for pat in patterns[\"Patterns\"]:\n",
    "        needed = set(pat.split())\n",
    "        col = doc_sets.apply(lambda doc: int(needed.issubset(doc))).to_numpy(dtype=np.uint8, copy=False)\n",
    "        col_data.append(col.reshape(-1, 1))\n",
    "\n",
    "    return csr_matrix(np.hstack(col_data), dtype=np.uint8)\n",
    "\n",
    "\n",
    "def evaluate_model(features: csr_matrix, labels: np.ndarray, model, label: str) -> None:\n",
    "    X_train, X_test, y_train, y_test = train_test_split(\n",
    "        features,\n",
    "        labels,\n",
    "        test_size=0.3,\n",
    "        random_state=42,\n",
    "        stratify=labels,\n",
    "    )\n",
    "    model.fit(X_train, y_train)\n",
    "    y_pred = model.predict(X_test)\n",
    "    print(f\"=== {label} ===\")\n",
    "    print(\"Accuracy:\", accuracy_score(y_test, y_pred))\n",
    "    print(classification_report(y_test, y_pred, digits=4))\n",
    "\n",
    "\n",
    "data = load_dataset(DATA_PATH)\n",
    "labels = data[\"label\"].to_numpy()\n",
    "\n",
    "bow, bow_matrix, tfidf, tfidf_matrix = build_vectorizers(data[\"text\"])\n",
    "\n",
    "transactions = transactions_for_class(bow_matrix, labels, bow.get_feature_names_out())\n",
    "pattern_table = mine_patterns(transactions)\n",
    "pattern_matrix = pattern_features(data, pattern_table)\n",
    "\n",
    "augmented_features = hstack([bow_matrix, pattern_matrix], format=\"csr\")\n",
    "\n",
    "evaluate_model(bow_matrix, labels, MultinomialNB(), \"MultinomialNB on binary counts\")\n",
    "evaluate_model(augmented_features, labels, MultinomialNB(), \"MultinomialNB on counts + patterns\")\n",
    "evaluate_model(tfidf_matrix, labels, ComplementNB(), \"ComplementNB on TF-IDF\")\n"
   ]
  },
  {
   "cell_type": "markdown",
   "metadata": {},
   "source": [
    "# Part 3 phase 2"
   ]
  },
  {
   "cell_type": "markdown",
   "metadata": {},
   "source": [
    "Third: please attempt the following tasks on **the new dataset**. __This part is worth 20% of your grade.__\n",
    "    - Use this file to answer.\n",
    "    - Generate **TF-IDF features** from the tokens of each text. This will generating a document matrix, however, the weights will be computed differently (using the TF-IDF value of each word per document as opposed to the word frequency).  Refer to this Scikit-learn [guide](http://scikit-learn.org/stable/modules/generated/sklearn.feature_extraction.text.TfidfVectorizer.html) .\n",
    "    - Implement a simple **Naive Bayes classifier** that automatically classifies the records into their categories. Use both the TF-IDF features and word frequency features to build two seperate classifiers. Note that for the TF-IDF features you might need to use other type of NB classifier different than the one in the Master Notebook. Comment on the differences and when using augmentation with feature pattern.  Refer to this [article](https://hub.packtpub.com/implementing-3-naive-bayes-classifiers-in-scikit-learn/).\n"
   ]
  },
  {
   "cell_type": "code",
   "execution_count": null,
   "metadata": {},
   "outputs": [
    {
     "name": "stdout",
     "output_type": "stream",
     "text": [
      "=== MultinomialNB on Counts ===\n",
      "Accuracy: 0.5843137254901961\n",
      "              precision    recall  f1-score   support\n",
      "\n",
      "         neg     0.5588    0.6000    0.5787        95\n",
      "         neu     0.6250    0.7087    0.6642       127\n",
      "         pos     0.2222    0.0606    0.0952        33\n",
      "\n",
      "    accuracy                         0.5843       255\n",
      "   macro avg     0.4687    0.4564    0.4460       255\n",
      "weighted avg     0.5482    0.5843    0.5587       255\n",
      "\n",
      "=== ComplementNB on TF-IDF ===\n",
      "Accuracy: 0.48627450980392156\n",
      "              precision    recall  f1-score   support\n",
      "\n",
      "         neg     0.5039    0.6842    0.5804        95\n",
      "         neu     0.6136    0.4252    0.5023       127\n",
      "         pos     0.1316    0.1515    0.1408        33\n",
      "\n",
      "    accuracy                         0.4863       255\n",
      "   macro avg     0.4164    0.4203    0.4078       255\n",
      "weighted avg     0.5104    0.4863    0.4846       255\n",
      "\n",
      "=== MultinomialNB on Augmented (Counts + Patterns) ===\n",
      "Accuracy: 0.5843137254901961\n",
      "              precision    recall  f1-score   support\n",
      "\n",
      "         neg     0.5588    0.6000    0.5787        95\n",
      "         neu     0.6250    0.7087    0.6642       127\n",
      "         pos     0.2222    0.0606    0.0952        33\n",
      "\n",
      "    accuracy                         0.5843       255\n",
      "   macro avg     0.4687    0.4564    0.4460       255\n",
      "weighted avg     0.5482    0.5843    0.5587       255\n",
      "\n"
     ]
    }
   ],
   "source": [
    "\n",
    "target_names = sorted(pd.unique(labels))\n",
    "\n",
    "# 1) MultinomialNB on binary count vectors\n",
    "Xtr, Xte, ytr, yte = train_test_split(\n",
    "    bow_matrix, labels, test_size=0.30, random_state=42, stratify=labels\n",
    ")\n",
    "mnb = MultinomialNB().fit(Xtr, ytr)\n",
    "pred = mnb.predict(Xte)\n",
    "print(\"=== MultinomialNB on Counts ===\")\n",
    "print(\"Accuracy:\", accuracy_score(yte, pred))\n",
    "print(classification_report(yte, pred, target_names=target_names, digits=4))\n",
    "\n",
    "# 2) ComplementNB on TF-IDF\n",
    "Xt_tr, Xt_te, yt_tr, yt_te = train_test_split(\n",
    "    tfidf_matrix, labels, test_size=0.30, random_state=42, stratify=labels\n",
    ")\n",
    "cnb = ComplementNB().fit(Xt_tr, yt_tr)\n",
    "pred_t = cnb.predict(Xt_te)\n",
    "print(\"=== ComplementNB on TF-IDF ===\")\n",
    "print(\"Accuracy:\", accuracy_score(yt_te, pred_t))\n",
    "print(classification_report(yt_te, pred_t, target_names=target_names, digits=4))\n",
    "\n",
    "# 3) MultinomialNB on augmented (counts + pattern columns)\n",
    "Xa_tr, Xa_te, ya_tr, ya_te = train_test_split(\n",
    "    augmented_features, labels, test_size=0.30, random_state=42, stratify=labels\n",
    ")\n",
    "mnb_aug = MultinomialNB().fit(Xa_tr, ya_tr)\n",
    "pred_a = mnb_aug.predict(Xa_te)\n",
    "print(\"=== MultinomialNB on Augmented (Counts + Patterns) ===\")\n",
    "print(\"Accuracy:\", accuracy_score(ya_te, pred_a))\n",
    "print(classification_report(ya_te, pred_a, target_names=target_names, digits=4))\n"
   ]
  },
  {
   "cell_type": "markdown",
   "metadata": {},
   "source": [
    "### Model Comparison (Counts vs Augmented vs TF-IDF)\n",
    "- The pure count model and the augmented version land on identical metrics because the mined pattern columns are all zero; the stricter support filter removed every pattern that added new signal.\n",
    "- TF-IDF + ComplementNB performs worse overall (≈0.49 accuracy). It boosts recall for the negative class but loses precision on neutral posts and still struggles with the underrepresented positive class (only 33 samples).\n",
    "- For this dataset, binary counts already capture the dominant vocabulary; to make augmentation useful we’d need looser pattern thresholds or additional balancing so positive cues appear often enough to survive mining.\n"
   ]
  },
  {
   "cell_type": "markdown",
   "metadata": {},
   "source": [
    "# Part 4 phase 2 "
   ]
  },
  {
   "cell_type": "markdown",
   "metadata": {
    "vscode": {
     "languageId": "bat"
    }
   },
   "source": [
    "\n",
    "\n",
    "Some steps in the lab are not ideal or efficient for this dataset:\n",
    "- 1. Minimal text cleaning:\n",
    "We didn’t remove URLs, punctuation, emojis, or numbers. These often appear in Reddit posts but add noise.\n",
    "→ Fix: Use regex to clean text and nltk stopword removal before vectorizing.\n",
    "- 2. Sparse high-dimensional matrices:\n",
    "CountVectorizer created tens of thousands of columns. Many are rare or meaningless.\n",
    "→ Fix: Use min_df / max_df thresholds or TF-IDF with sublinear scaling to reduce dimensionality.\n",
    "- 3. No lemmatization or stemming:\n",
    "Words like run, running, runs were treated as different.\n",
    "→ Fix: Apply lemmatization (e.g., WordNetLemmatizer) before building features.\n",
    "- 4. Class imbalance:\n",
    "Some sentiment labels appear much less than others.\n",
    "→ Fix: Downsample large classes or use class weighting in classifiers.\n",
    "- 5. Frequent-pattern mining inefficiency:\n",
    "FPGrowth on the entire vocabulary is slow and redundant.\n",
    "→ Fix: Limit to top frequent tokens per class or use simpler n-gram filtering.\n",
    "- 6. No validation or parameter tuning:\n",
    "Models were run with defaults only.\n",
    "→ Fix: Use cross-validation and grid search to pick better smoothing or feature parameters.\n",
    "\n",
    "In short: better text cleaning, token normalization, feature filtering, and balanced data sampling would make the preprocessing faster, smaller, and more accurate for this Reddit dataset."
   ]
  }
 ],
 "metadata": {
  "kernelspec": {
   "display_name": "DM2025-Lab1-Exercise",
   "language": "python",
   "name": "python3"
  },
  "language_info": {
   "codemirror_mode": {
    "name": "ipython",
    "version": 3
   },
   "file_extension": ".py",
   "mimetype": "text/x-python",
   "name": "python",
   "nbconvert_exporter": "python",
   "pygments_lexer": "ipython3",
   "version": "3.11.13"
  }
 },
 "nbformat": 4,
 "nbformat_minor": 4
}
